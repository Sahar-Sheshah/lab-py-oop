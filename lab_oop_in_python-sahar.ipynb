{
  "cells": [
    {
      "cell_type": "markdown",
      "metadata": {
        "id": "6n8n53b6cWQP"
      },
      "source": [
        "# LAB | Object-Oriented Programming (OOP) in Python"
      ]
    },
    {
      "cell_type": "markdown",
      "metadata": {
        "id": "pMEAjuMCcWQb"
      },
      "source": [
        "## Overview\n",
        "This exercise notebook will help you practice Object-Oriented Programming concepts in Python. You will create classes, instantiate objects, and use inheritance to build more complex structures.\n",
        "\n",
        "## Instructions\n",
        "- Complete each exercise by writing the appropriate code in the provided space.\n",
        "- Test your code to ensure it works as expected.\n",
        "- Use the hints provided if you get stuck."
      ]
    },
    {
      "cell_type": "markdown",
      "metadata": {
        "id": "1jzYn8vOcWQe"
      },
      "source": [
        "### Exercise 1: Create a Class with Instance Attributes\n",
        "Write a Python program to create a `Vehicle` class with `max_speed` and `mileage` instance attributes."
      ]
    },
    {
      "cell_type": "code",
      "execution_count": 9,
      "metadata": {
        "colab": {
          "base_uri": "https://localhost:8080/"
        },
        "id": "Xj5jFAnCcWQg",
        "outputId": "ccb1f71b-b9f7-4838-ba71-d2592cf88f46"
      },
      "outputs": [
        {
          "output_type": "stream",
          "name": "stdout",
          "text": [
            "200 15000\n"
          ]
        }
      ],
      "source": [
        "# Your code here\n",
        "class Vehicle:\n",
        "    def __init__(self, max_speed, mileage):\n",
        "        self.max_speed = max_speed\n",
        "        self.mileage = mileage\n",
        "\n",
        "# Example instantiation\n",
        "modelX = Vehicle(200, 15000)\n",
        "\n",
        "# Print attributes\n",
        "print(modelX.max_speed, modelX.mileage)\n"
      ]
    },
    {
      "cell_type": "markdown",
      "metadata": {
        "id": "eJ85fI_hcWQk"
      },
      "source": [
        "### Exercise 2: Create a Vehicle Class Without Any Variables and Methods\n",
        "Create a `Vehicle` class without any variables or methods."
      ]
    },
    {
      "cell_type": "code",
      "execution_count": 10,
      "metadata": {
        "colab": {
          "base_uri": "https://localhost:8080/"
        },
        "id": "fuJJdu9BcWQl",
        "outputId": "82b8c6b7-658b-4afa-98ba-5adce12f21fc"
      },
      "outputs": [
        {
          "output_type": "stream",
          "name": "stdout",
          "text": [
            "<class '__main__.Vehicle'>\n"
          ]
        }
      ],
      "source": [
        "# Your code here\n",
        "class Vehicle:\n",
        "    pass\n",
        "\n",
        "# Example instantiation\n",
        "my_vehicle = Vehicle()\n",
        "print(type(my_vehicle))  # Expected output: <class '__main__.Vehicle'>"
      ]
    },
    {
      "cell_type": "markdown",
      "metadata": {
        "id": "k8MJYgsXcWQ1"
      },
      "source": [
        "### Exercise 3: Create a Child Class Bus\n",
        "Create a child class `Bus` that will inherit all of the variables and methods of the `Vehicle` class."
      ]
    },
    {
      "cell_type": "code",
      "execution_count": 11,
      "metadata": {
        "colab": {
          "base_uri": "https://localhost:8080/"
        },
        "id": "Rm4ynrnfcWQ3",
        "outputId": "24ae1ff3-6253-4708-c7ef-0727438bcd99"
      },
      "outputs": [
        {
          "output_type": "stream",
          "name": "stdout",
          "text": [
            "<class '__main__.Bus'>\n",
            "100 20000\n"
          ]
        }
      ],
      "source": [
        "# Your code here\n",
        "class Vehicle:\n",
        "    def __init__(self, max_speed, mileage):\n",
        "        self.max_speed = max_speed\n",
        "        self.mileage = mileage\n",
        "class Bus(Vehicle):\n",
        "    pass\n",
        "\n",
        "school_bus = Bus(100, 20000)\n",
        "print(type(school_bus))\n",
        "print(school_bus.max_speed, school_bus.mileage)"
      ]
    },
    {
      "cell_type": "markdown",
      "metadata": {
        "id": "uZ_eSF25cWQ4"
      },
      "source": [
        "### Exercise 4: Class Inheritance with Method Overriding\n",
        "Create a `Bus` class that inherits from the `Vehicle` class. Override the `fare()` method to include an extra charge for maintenance."
      ]
    },
    {
      "cell_type": "code",
      "execution_count": 12,
      "metadata": {
        "colab": {
          "base_uri": "https://localhost:8080/"
        },
        "id": "bo7katHhcWQ6",
        "outputId": "f3b990d9-e1b0-402b-a5ac-8c1075dc7b60"
      },
      "outputs": [
        {
          "output_type": "stream",
          "name": "stdout",
          "text": [
            "Base fare with extra charge\n"
          ]
        }
      ],
      "source": [
        "# Your code here\n",
        "class Vehicle:\n",
        "    def fare(self):\n",
        "        return \"Base fare\"\n",
        "\n",
        "class Bus(Vehicle):\n",
        "    # Hint: Override fare method to include extra charges\n",
        "    def fare(self):\n",
        "        return super().fare() + \" with extra charge\"\n",
        "school_bus = Bus()\n",
        "print(school_bus.fare())  # Expected output: \"Base fare with extra charge\""
      ]
    },
    {
      "cell_type": "markdown",
      "metadata": {
        "id": "4wTMR9OZcWQ9"
      },
      "source": [
        "### Exercise 5: Define a Class Attribute\n",
        "Define a property that must have the same value for every class instance (object). Set a default value for `color`."
      ]
    },
    {
      "cell_type": "markdown",
      "metadata": {
        "id": "tSD-DRwocWRA"
      },
      "source": [
        "### Exercise 6: Class Inheritance with Default Fare Calculation\n",
        "Create a `Bus` child class that inherits from the `Vehicle` class. The default fare charge of any vehicle is `seating capacity * 100`. If the vehicle is a bus instance, add an extra 10% on the full fare as a maintenance charge."
      ]
    },
    {
      "cell_type": "code",
      "execution_count": 13,
      "metadata": {
        "colab": {
          "base_uri": "https://localhost:8080/"
        },
        "id": "PQspG2rAcWRB",
        "outputId": "f9b76a13-f0de-48dd-deab-e2c8f4d52817"
      },
      "outputs": [
        {
          "output_type": "stream",
          "name": "stdout",
          "text": [
            "Total Bus fare is: 5000\n"
          ]
        }
      ],
      "source": [
        "# Your code here\n",
        "class Vehicle:\n",
        "    def __init__(self, name, mileage, capacity):\n",
        "        self.name = name\n",
        "        self.mileage = mileage\n",
        "        self.capacity = capacity\n",
        "\n",
        "    def fare(self):\n",
        "        return self.capacity * 100\n",
        "\n",
        "class Bus(Vehicle):\n",
        "    pass\n",
        "\n",
        "school_bus = Bus(\"School Volvo\", 12, 50)\n",
        "print(\"Total Bus fare is:\", school_bus.fare())  # Expected output: Total Bus fare is: (calculated amount)"
      ]
    },
    {
      "cell_type": "markdown",
      "metadata": {
        "id": "4IIl3rOtcWRD"
      },
      "source": [
        "### Exercise 7: Check Type of an Object\n",
        "Write a program to determine which class a given object belongs to."
      ]
    },
    {
      "cell_type": "code",
      "execution_count": 14,
      "metadata": {
        "colab": {
          "base_uri": "https://localhost:8080/"
        },
        "id": "yWQeUjqAcWRF",
        "outputId": "895d025b-a768-4486-a2dd-4261cad3a351"
      },
      "outputs": [
        {
          "output_type": "stream",
          "name": "stdout",
          "text": [
            "<class '__main__.Bus'>\n"
          ]
        }
      ],
      "source": [
        "# Your code here\n",
        "school_bus = Bus(\"School Volvo\", 12, 50)\n",
        "print(type(school_bus))"
      ]
    },
    {
      "cell_type": "markdown",
      "metadata": {
        "id": "g0Ms268RcWRG"
      },
      "source": [
        "### Exercise 8: Check Instance of Class\n",
        "Determine if `school_bus` is also an instance of the `Vehicle` class.\n"
      ]
    },
    {
      "cell_type": "code",
      "execution_count": 15,
      "metadata": {
        "colab": {
          "base_uri": "https://localhost:8080/"
        },
        "id": "Mc2AeZLTcWRI",
        "outputId": "a1d68c97-538a-4e84-b252-cd7d4fe23425"
      },
      "outputs": [
        {
          "output_type": "stream",
          "name": "stdout",
          "text": [
            "True\n"
          ]
        }
      ],
      "source": [
        "# Your code here\n",
        "class Vehicle:\n",
        "    def __init__(self, name, mileage, capacity):\n",
        "        self.name = name\n",
        "        self.mileage = mileage\n",
        "        self.capacity = capacity\n",
        "\n",
        "class Bus(Vehicle):\n",
        "    pass\n",
        "\n",
        "\n",
        "school_bus = Bus(\"School Volvo\", 12, 50)\n",
        "\n",
        "\n",
        "print(isinstance(school_bus, Vehicle))"
      ]
    },
    {
      "cell_type": "markdown",
      "metadata": {
        "id": "sHBwr6WKcWRJ"
      },
      "source": [
        "### Exercise Completion  \n",
        "Once you have completed all exercises:\n",
        "- Review your solutions.\n",
        "- Ensure your code is well-documented with comments explaining your logic.\n",
        "- Save your notebook for submission or further review.\n",
        "\n",
        "Happy coding! Enjoy exploring Object-Oriented Programming with Python!\n"
      ]
    }
  ],
  "metadata": {
    "kernelspec": {
      "display_name": ".venv",
      "language": "python",
      "name": "python3"
    },
    "language_info": {
      "codemirror_mode": {
        "name": "ipython",
        "version": 3
      },
      "file_extension": ".py",
      "mimetype": "text/x-python",
      "name": "python",
      "nbconvert_exporter": "python",
      "pygments_lexer": "ipython3",
      "version": "3.8.0"
    },
    "colab": {
      "provenance": []
    }
  },
  "nbformat": 4,
  "nbformat_minor": 0
}